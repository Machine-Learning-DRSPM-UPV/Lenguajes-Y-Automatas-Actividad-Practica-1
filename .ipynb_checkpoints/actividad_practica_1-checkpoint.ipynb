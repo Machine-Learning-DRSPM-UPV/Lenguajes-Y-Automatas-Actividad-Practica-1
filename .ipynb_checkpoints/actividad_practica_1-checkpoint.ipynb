{
 "cells": [
  {
   "cell_type": "markdown",
   "id": "67957c14-dbf3-4d9c-8cf6-1607244c81f5",
   "metadata": {},
   "source": [
    "# Actividad práctica 1 - Caminos y recorridos\n",
    "\n",
    "Realice las siguiente actividades:\n",
    "\n",
    "  1. Implemente una función que permita obtener un grafo mediante un archivo json.\n",
    "  1. Muestre mediante la librería networkx o igraph el grafo obtenido.\n",
    "  1. Solicite la longitud de un camino.\n",
    "  1. Obtenga el camino mediante un algoritmo de backtracking.\n",
    "  1. muestre el recorrido mediante una imagen.\n",
    " "
   ]
  },
  {
   "cell_type": "code",
   "execution_count": null,
   "id": "a5ff0887-dd26-4b56-9d20-d480c13f3a7b",
   "metadata": {},
   "outputs": [],
   "source": []
  }
 ],
 "metadata": {
  "kernelspec": {
   "display_name": "Python 3",
   "language": "python",
   "name": "python3"
  },
  "language_info": {
   "codemirror_mode": {
    "name": "ipython",
    "version": 3
   },
   "file_extension": ".py",
   "mimetype": "text/x-python",
   "name": "python",
   "nbconvert_exporter": "python",
   "pygments_lexer": "ipython3",
   "version": "3.8.12"
  }
 },
 "nbformat": 4,
 "nbformat_minor": 5
}
